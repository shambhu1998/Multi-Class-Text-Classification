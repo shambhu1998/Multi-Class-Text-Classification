{
  "nbformat": 4,
  "nbformat_minor": 0,
  "metadata": {
    "colab": {
      "name": "Copy of Untitled6.ipynb",
      "provenance": [],
      "collapsed_sections": []
    },
    "kernelspec": {
      "name": "python3",
      "display_name": "Python 3"
    },
    "language_info": {
      "name": "python"
    },
    "accelerator": "GPU"
  },
  "cells": [
    {
      "cell_type": "markdown",
      "metadata": {
        "id": "oy0v_xhoyGsf"
      },
      "source": [
        "##1. Imports"
      ]
    },
    {
      "cell_type": "code",
      "metadata": {
        "id": "at1B9ZOAddkx"
      },
      "source": [
        "import numpy as np \n",
        "import pandas as pd \n",
        "import torch\n",
        "import torch.nn as nn\n",
        "from sklearn import metrics\n",
        "from sklearn.model_selection import train_test_split\n",
        "from sklearn.metrics import confusion_matrix\n",
        "import matplotlib.pyplot as plt \n",
        "import seaborn as sns\n",
        "import tensorflow as tf"
      ],
      "execution_count": null,
      "outputs": []
    },
    {
      "cell_type": "markdown",
      "metadata": {
        "id": "IG7fyb3uydMf"
      },
      "source": [
        "##2. Loading Data"
      ]
    },
    {
      "cell_type": "code",
      "metadata": {
        "id": "H2t_wq8Qe45G"
      },
      "source": [
        "# read files\n",
        "data_dir = '/content/drive/MyDrive/lstm/'\n",
        "\n",
        "train_df = pd.read_csv(data_dir + \"train_set.csv\", encoding='latin-1')\n",
        "test_df = pd.read_csv(data_dir + \"test_set.csv\")"
      ],
      "execution_count": null,
      "outputs": []
    },
    {
      "cell_type": "code",
      "metadata": {
        "colab": {
          "base_uri": "https://localhost:8080/",
          "height": 203
        },
        "id": "89dWBNjDe_mw",
        "outputId": "776c25ab-95f1-4538-c122-edb15e5435a4"
      },
      "source": [
        "train_df.head()"
      ],
      "execution_count": null,
      "outputs": [
        {
          "output_type": "execute_result",
          "data": {
            "text/html": [
              "<div>\n",
              "<style scoped>\n",
              "    .dataframe tbody tr th:only-of-type {\n",
              "        vertical-align: middle;\n",
              "    }\n",
              "\n",
              "    .dataframe tbody tr th {\n",
              "        vertical-align: top;\n",
              "    }\n",
              "\n",
              "    .dataframe thead th {\n",
              "        text-align: right;\n",
              "    }\n",
              "</style>\n",
              "<table border=\"1\" class=\"dataframe\">\n",
              "  <thead>\n",
              "    <tr style=\"text-align: right;\">\n",
              "      <th></th>\n",
              "      <th>label</th>\n",
              "      <th>text</th>\n",
              "    </tr>\n",
              "  </thead>\n",
              "  <tbody>\n",
              "    <tr>\n",
              "      <th>0</th>\n",
              "      <td>85389000</td>\n",
              "      <td>pdscpm gb part of panel of chiller</td>\n",
              "    </tr>\n",
              "    <tr>\n",
              "      <th>1</th>\n",
              "      <td>85389000</td>\n",
              "      <td>nm  p economical extended rot hand parts for c...</td>\n",
              "    </tr>\n",
              "    <tr>\n",
              "      <th>2</th>\n",
              "      <td>85389000</td>\n",
              "      <td>lv ma pd trip unit for cvs parts of circuit br...</td>\n",
              "    </tr>\n",
              "    <tr>\n",
              "      <th>3</th>\n",
              "      <td>85389000</td>\n",
              "      <td>lv na p trip unit for cvs switch parts of circ...</td>\n",
              "    </tr>\n",
              "    <tr>\n",
              "      <th>4</th>\n",
              "      <td>85389000</td>\n",
              "      <td>lv tmd pd trip unit for cvs parts of circuitbr...</td>\n",
              "    </tr>\n",
              "  </tbody>\n",
              "</table>\n",
              "</div>"
            ],
            "text/plain": [
              "      label                                               text\n",
              "0  85389000                 pdscpm gb part of panel of chiller\n",
              "1  85389000  nm  p economical extended rot hand parts for c...\n",
              "2  85389000  lv ma pd trip unit for cvs parts of circuit br...\n",
              "3  85389000  lv na p trip unit for cvs switch parts of circ...\n",
              "4  85389000  lv tmd pd trip unit for cvs parts of circuitbr..."
            ]
          },
          "metadata": {},
          "execution_count": 3
        }
      ]
    },
    {
      "cell_type": "code",
      "metadata": {
        "colab": {
          "base_uri": "https://localhost:8080/",
          "height": 203
        },
        "id": "fdeb2t0tfR1Z",
        "outputId": "70049bd0-fd81-44f7-ff8b-f9c6572afac4"
      },
      "source": [
        "test_df.head()"
      ],
      "execution_count": null,
      "outputs": [
        {
          "output_type": "execute_result",
          "data": {
            "text/html": [
              "<div>\n",
              "<style scoped>\n",
              "    .dataframe tbody tr th:only-of-type {\n",
              "        vertical-align: middle;\n",
              "    }\n",
              "\n",
              "    .dataframe tbody tr th {\n",
              "        vertical-align: top;\n",
              "    }\n",
              "\n",
              "    .dataframe thead th {\n",
              "        text-align: right;\n",
              "    }\n",
              "</style>\n",
              "<table border=\"1\" class=\"dataframe\">\n",
              "  <thead>\n",
              "    <tr style=\"text-align: right;\">\n",
              "      <th></th>\n",
              "      <th>text</th>\n",
              "    </tr>\n",
              "  </thead>\n",
              "  <tbody>\n",
              "    <tr>\n",
              "      <th>0</th>\n",
              "      <td>lv tmd pd trip unit for nh parts of circuit br...</td>\n",
              "    </tr>\n",
              "    <tr>\n",
              "      <th>1</th>\n",
              "      <td>module tm analog outputs analog output expansi...</td>\n",
              "    </tr>\n",
              "    <tr>\n",
              "      <th>2</th>\n",
              "      <td>command group t iii mechanismt p parts forcir...</td>\n",
              "    </tr>\n",
              "    <tr>\n",
              "      <th>3</th>\n",
              "      <td>parts of relayelectrical contact  issu e f xxup</td>\n",
              "    </tr>\n",
              "    <tr>\n",
              "      <th>4</th>\n",
              "      <td>parts for programmable logic controllers  dm  ...</td>\n",
              "    </tr>\n",
              "  </tbody>\n",
              "</table>\n",
              "</div>"
            ],
            "text/plain": [
              "                                                text\n",
              "0  lv tmd pd trip unit for nh parts of circuit br...\n",
              "1  module tm analog outputs analog output expansi...\n",
              "2   command group t iii mechanismt p parts forcir...\n",
              "3    parts of relayelectrical contact  issu e f xxup\n",
              "4  parts for programmable logic controllers  dm  ..."
            ]
          },
          "metadata": {},
          "execution_count": 4
        }
      ]
    },
    {
      "cell_type": "code",
      "metadata": {
        "id": "lzbutFOIfVUd"
      },
      "source": [
        "# change labels from original labels to its index & remove duplicates\n",
        "idx2labels = dict(enumerate(train_df['label'].unique()))\n",
        "labels2idx = {v:k for (k,v) in idx2labels.items()}\n",
        "\n",
        "train_df = train_df.replace({\"label\": labels2idx})\n",
        "train_df = train_df.drop_duplicates().reset_index(drop=True)\n",
        "train_df = train_df.sample(frac=1).reset_index(drop=True)"
      ],
      "execution_count": null,
      "outputs": []
    },
    {
      "cell_type": "code",
      "metadata": {
        "id": "Q4NBbasVfYWb"
      },
      "source": [
        "# Custom datset class to generate dataset\n",
        "class CustomDataset:\n",
        "    def __init__(self, texts, labels):\n",
        "        \"\"\"\n",
        "        :param reviews: this is a numpy array\n",
        "        :param targets: a vector, numpy array\n",
        "        \"\"\"\n",
        "        self.texts = texts\n",
        "        self.labels = labels\n",
        "    def __len__(self):\n",
        "        # returns length of the dataset\n",
        "        return len(self.texts)\n",
        "\n",
        "    def __getitem__(self, item):\n",
        "        # return review and targets as torch tensor\n",
        "        text = self.texts[item, :]\n",
        "        label = self.labels[item]\n",
        "        return {\"text\": torch.tensor(text, dtype=torch.long),\n",
        "                \"label\": torch.tensor(label, dtype=torch.int)}\n"
      ],
      "execution_count": null,
      "outputs": []
    },
    {
      "cell_type": "markdown",
      "metadata": {
        "id": "pD_AmphWy0c7"
      },
      "source": [
        "##3. Define LSTM Model"
      ]
    },
    {
      "cell_type": "code",
      "metadata": {
        "id": "BOMP8pBWfbL-"
      },
      "source": [
        "# define model LSTM model\n",
        "class LSTM(nn.Module):\n",
        "    def __init__(self, embedding_matrix):\n",
        "        \"\"\"\n",
        "        :param embedding_matrix: numpy array with vectors for all words\n",
        "        \"\"\"\n",
        "        super(LSTM, self).__init__()\n",
        "        # number of words = number of rows in embedding matrix\n",
        "        num_words = embedding_matrix.shape[0]\n",
        "        embed_dim = embedding_matrix.shape[1]\n",
        "        # define an input embedding layer\n",
        "        self.embedding = nn.Embedding(\n",
        "            num_embeddings=num_words,\n",
        "            embedding_dim=embed_dim\n",
        "        )\n",
        "        # embedding matrix is used as weights of\n",
        "        # the embedding layer\n",
        "        self.embedding.weight = nn.Parameter(\n",
        "            torch.tensor(\n",
        "            embedding_matrix,\n",
        "            dtype=torch.float32\n",
        "            )\n",
        "        )\n",
        "        # not training the embeddings\n",
        "        self.embedding.weight.requires_grad = True  \n",
        "        # hidden size = 128\n",
        "        self.lstm = nn.LSTM(\n",
        "            embed_dim,\n",
        "            128,\n",
        "            bidirectional=True,\n",
        "            batch_first=True,\n",
        "        )\n",
        "        # input 2*(256) => 128 + 128 for mean and same for max pooling\n",
        "        self.out = nn.Linear(512, 64)\n",
        "        self.dropout = nn.Dropout(0.5)\n",
        "        self.relu = nn.ReLU()\n",
        "        self.out1 = nn.Linear(64, 12)\n",
        "\n",
        "    def forward(self, x):\n",
        "        # pass input through defined layer\n",
        "        x = self.embedding(x)\n",
        "        # move embedding output to lstm\n",
        "        x, _ = self.lstm(x)\n",
        "        # apply mean and max pooling on lstm output\n",
        "        avg_pool = torch.mean(x, 1)\n",
        "        max_pool, _ = torch.max(x, 1)\n",
        "\n",
        "        # 128+128 for each direction = 512\n",
        "        out = torch.cat((avg_pool, max_pool), 1)\n",
        "        out = self.out(out)\n",
        "        out = self.dropout(out)\n",
        "        out = self.relu(out)\n",
        "        out = self.out1(out)\n",
        "        \n",
        "        return out"
      ],
      "execution_count": null,
      "outputs": []
    },
    {
      "cell_type": "markdown",
      "metadata": {
        "id": "DVosw8HOy_of"
      },
      "source": [
        "##4. Train and Evaluate"
      ]
    },
    {
      "cell_type": "code",
      "metadata": {
        "id": "h70bocYJfeRO"
      },
      "source": [
        "# define train and evaluate function\n",
        "def train(data_loader, model, optimizer, device):\n",
        "    \"\"\"\n",
        "    This is the main training function that trains model\n",
        "    for one epoch.\n",
        "    \"\"\"\n",
        "    # set model to training mode\n",
        "    model.train()\n",
        "    \n",
        "    for data in data_loader:\n",
        "        # fetching text and label\n",
        "        texts = data[\"text\"]\n",
        "        labels = data[\"label\"]\n",
        "        texts = texts.to(device, dtype=torch.long)\n",
        "        labels = labels.to(device, dtype=torch.long)\n",
        "        optimizer.zero_grad()\n",
        "        predictions = model(texts)\n",
        "        loss = nn.CrossEntropyLoss()(\n",
        "            predictions,\n",
        "            labels\n",
        "        )\n",
        "        loss.backward()\n",
        "        optimizer.step()\n",
        "\n",
        "def evaluate(data_loader, model, device):\n",
        "    # store predictions and targets\n",
        "    final_predictions = []\n",
        "    final_labels = []\n",
        "    # put the model in eval mode\n",
        "    model.eval()\n",
        "\n",
        "    with torch.no_grad():\n",
        "        for data in data_loader:\n",
        "            texts = data[\"text\"]\n",
        "            labels = data[\"label\"]\n",
        "            texts = texts.to(device, dtype=torch.long)\n",
        "            labels = labels.to(device, dtype=torch.long)\n",
        "            predictions = model(texts)\n",
        "            predictions = predictions.cpu().numpy().tolist()\n",
        "            labels = data[\"label\"].cpu().numpy().tolist()\n",
        "            final_predictions.extend(predictions)\n",
        "            final_labels.extend(labels)\n",
        "            \n",
        "    return final_predictions, final_labels"
      ],
      "execution_count": null,
      "outputs": []
    },
    {
      "cell_type": "code",
      "metadata": {
        "id": "IEJn3qqqfho0"
      },
      "source": [
        "# config data \n",
        "MAX_LEN = 128\n",
        "TRAIN_BATCH_SIZE = 128\n",
        "VALID_BATCH_SIZE = 32\n",
        "EPOCHS = 25"
      ],
      "execution_count": null,
      "outputs": []
    },
    {
      "cell_type": "code",
      "metadata": {
        "id": "i0yDLi_sflqe"
      },
      "source": [
        "# split the data into train & validation set\n",
        "x_train, x_valid, y_train, y_valid = train_test_split(train_df.text.values,train_df.label.values, test_size=0.1)\n",
        "\n",
        "# create a character vocabulory\n",
        "tokenizer = tf.keras.preprocessing.text.Tokenizer(char_level=True)\n",
        "tokenizer.fit_on_texts(train_df.text.values.tolist())\n",
        "\n",
        "x_train = tokenizer.texts_to_sequences(x_train)\n",
        "x_val = tokenizer.texts_to_sequences(x_valid)\n",
        "\n",
        "x_train = tf.keras.preprocessing.sequence.pad_sequences(\n",
        "x_train, maxlen=MAX_LEN\n",
        ")\n",
        "x_val = tf.keras.preprocessing.sequence.pad_sequences(\n",
        "x_val, maxlen=MAX_LEN\n",
        ")\n",
        "\n",
        "train_dataset = CustomDataset(\n",
        "    texts=x_train,\n",
        "    labels=y_train\n",
        ")\n",
        "\n",
        "train_data_loader = torch.utils.data.DataLoader(\n",
        "    train_dataset,\n",
        "    batch_size=TRAIN_BATCH_SIZE,\n",
        "    num_workers=2\n",
        ")\n",
        "\n",
        "valid_dataset = CustomDataset(\n",
        "    texts=x_val,\n",
        "    labels=y_valid \n",
        ")\n",
        "\n",
        "valid_data_loader = torch.utils.data.DataLoader(\n",
        "    valid_dataset,\n",
        "    batch_size=VALID_BATCH_SIZE,\n",
        "    num_workers=1\n",
        ")\n",
        "\n",
        "dim = len(tokenizer.word_index)\n",
        "embedding_matrix = np.random.randn(dim + 1,dim + 1)"
      ],
      "execution_count": null,
      "outputs": []
    },
    {
      "cell_type": "code",
      "metadata": {
        "colab": {
          "base_uri": "https://localhost:8080/"
        },
        "id": "e4HD1d4mfptu",
        "outputId": "a3535b15-c96d-4f63-fca5-729a179f17fc"
      },
      "source": [
        "device = torch.device(\"cuda\") if torch.cuda.is_available() else torch.device(\"cpu\")\n",
        "\n",
        "model = LSTM(embedding_matrix)\n",
        "model.to(device)\n",
        "\n",
        "optimizer = torch.optim.Adam(model.parameters(), lr=3e-3)\n",
        "\n",
        "print(\"Training Model\")\n",
        "best_accuracy = 0\n",
        "best_model = None \n",
        "# set early stopping counter to zero\n",
        "early_stopping_counter = 0\n",
        "# train and validate for all epochs\n",
        "for epoch in range(EPOCHS):\n",
        "    train(train_data_loader, model, optimizer, device)\n",
        "    train_outputs, train_targets = evaluate(\n",
        "        train_data_loader, model, device \n",
        "    )\n",
        "    train_outputs = np.argmax(train_outputs, axis=1)\n",
        "    train_accuracy = metrics.accuracy_score(train_targets, train_outputs)\n",
        "\n",
        "    val_outputs, val_targets = evaluate(\n",
        "        valid_data_loader, model, device\n",
        "    )\n",
        "    val_outputs = np.argmax(val_outputs, axis=1)\n",
        "\n",
        "    val_accuracy = metrics.accuracy_score(val_targets, val_outputs)\n",
        "    print(f\"Epoch: {epoch},Train Accuracy = {train_accuracy} Val Accuracy = {val_accuracy}\")\n",
        "\n",
        "    if val_accuracy > best_accuracy:\n",
        "        best_accuracy = val_accuracy\n",
        "        best_model = model\n",
        "print(\"Best Accuracy: \", best_accuracy)"
      ],
      "execution_count": null,
      "outputs": [
        {
          "output_type": "stream",
          "text": [
            "Training Model\n",
            "Epoch: 0,Train Accuracy = 0.4790893101426617 Val Accuracy = 0.44991212653778556\n",
            "Epoch: 1,Train Accuracy = 0.6188196208716045 Val Accuracy = 0.6124780316344464\n",
            "Epoch: 2,Train Accuracy = 0.6653312487785812 Val Accuracy = 0.655536028119508\n",
            "Epoch: 3,Train Accuracy = 0.7136994332616767 Val Accuracy = 0.6854130052724078\n",
            "Epoch: 4,Train Accuracy = 0.746531170607778 Val Accuracy = 0.7152899824253075\n",
            "Epoch: 5,Train Accuracy = 0.7670510064490913 Val Accuracy = 0.7214411247803163\n",
            "Epoch: 6,Train Accuracy = 0.7946062145788548 Val Accuracy = 0.7565905096660809\n",
            "Epoch: 7,Train Accuracy = 0.7981239007230799 Val Accuracy = 0.7574692442882249\n",
            "Epoch: 8,Train Accuracy = 0.8271448114129373 Val Accuracy = 0.7847100175746925\n",
            "Epoch: 9,Train Accuracy = 0.8358413132694938 Val Accuracy = 0.7741652021089631\n",
            "Epoch: 10,Train Accuracy = 0.8556771545827634 Val Accuracy = 0.7961335676625659\n",
            "Epoch: 11,Train Accuracy = 0.8672073480555013 Val Accuracy = 0.7943760984182777\n",
            "Epoch: 12,Train Accuracy = 0.8746335743599766 Val Accuracy = 0.8022847100175747\n",
            "Epoch: 13,Train Accuracy = 0.873265585303889 Val Accuracy = 0.8031634446397188\n",
            "Epoch: 14,Train Accuracy = 0.8931014266171585 Val Accuracy = 0.8163444639718805\n",
            "Epoch: 15,Train Accuracy = 0.9017979284737151 Val Accuracy = 0.8154657293497364\n",
            "Epoch: 16,Train Accuracy = 0.8999413718975963 Val Accuracy = 0.820738137082601\n",
            "Epoch: 17,Train Accuracy = 0.9091264412741841 Val Accuracy = 0.835676625659051\n",
            "Epoch: 18,Train Accuracy = 0.9119601328903655 Val Accuracy = 0.8224956063268892\n",
            "Epoch: 19,Train Accuracy = 0.9188000781708032 Val Accuracy = 0.8304042179261862\n",
            "Epoch: 20,Train Accuracy = 0.9196794997068595 Val Accuracy = 0.8251318101933216\n",
            "Epoch: 21,Train Accuracy = 0.9289622825874536 Val Accuracy = 0.8339191564147628\n",
            "Epoch: 22,Train Accuracy = 0.9434238811803791 Val Accuracy = 0.8602811950790861\n",
            "Epoch: 23,Train Accuracy = 0.9394176275161227 Val Accuracy = 0.844463971880492\n",
            "Epoch: 24,Train Accuracy = 0.920656634746922 Val Accuracy = 0.828646748681898\n",
            "Best Accuracy:  0.8602811950790861\n"
          ],
          "name": "stdout"
        }
      ]
    },
    {
      "cell_type": "markdown",
      "metadata": {
        "id": "3Fjv_9W6znah"
      },
      "source": [
        "##5. Result Analysis"
      ]
    },
    {
      "cell_type": "code",
      "metadata": {
        "colab": {
          "base_uri": "https://localhost:8080/",
          "height": 606
        },
        "id": "5UwchAdyf8CS",
        "outputId": "03563a65-eec3-46bc-e97b-e81c8de9d1ea"
      },
      "source": [
        "# generate heatmap to analyze the result\n",
        "conf_mat = confusion_matrix(val_targets, val_outputs)\n",
        "\n",
        "ig, ax = plt.subplots(figsize=(10,10))\n",
        "sns.heatmap(conf_mat, annot=True, fmt='d')\n",
        "plt.ylabel('Actual')\n",
        "plt.xlabel('Predicted')\n",
        "plt.show()"
      ],
      "execution_count": null,
      "outputs": [
        {
          "output_type": "display_data",
          "data": {
            "image/png": "[encoded data removed]",
            "text/plain": [
              "<Figure size 720x720 with 2 Axes>"
            ]
          },
          "metadata": {
            "needs_background": "light"
          }
        }
      ]
    },
    {
      "cell_type": "markdown",
      "metadata": {
        "id": "aUVbjZxDz2rC"
      },
      "source": [
        "##6. Save & load model and predict on test set"
      ]
    },
    {
      "cell_type": "code",
      "metadata": {
        "id": "kI5Alzomg7iy"
      },
      "source": [
        "torch.save(best_model.state_dict(), data_dir + 'models/model.pth')"
      ],
      "execution_count": null,
      "outputs": []
    },
    {
      "cell_type": "code",
      "metadata": {
        "colab": {
          "base_uri": "https://localhost:8080/"
        },
        "id": "09Fa0GFuhbkS",
        "outputId": "837710de-a6d1-45a6-b93e-759cf958c45c"
      },
      "source": [
        "model = LSTM(embedding_matrix)\n",
        "model.load_state_dict(torch.load(data_dir + 'models/model.pth'))\n",
        "model.eval()"
      ],
      "execution_count": null,
      "outputs": [
        {
          "output_type": "execute_result",
          "data": {
            "text/plain": [
              "LSTM(\n",
              "  (embedding): Embedding(30, 30)\n",
              "  (lstm): LSTM(30, 128, batch_first=True, bidirectional=True)\n",
              "  (out): Linear(in_features=512, out_features=64, bias=True)\n",
              "  (dropout): Dropout(p=0.5, inplace=False)\n",
              "  (relu): ReLU()\n",
              "  (out1): Linear(in_features=64, out_features=12, bias=True)\n",
              ")"
            ]
          },
          "metadata": {},
          "execution_count": 16
        }
      ]
    },
    {
      "cell_type": "code",
      "metadata": {
        "id": "dHQ2S5Xoicsb"
      },
      "source": [
        "# predict the labels of test data\n",
        "test_data = test_df.text.values\n",
        "test_data = tokenizer.texts_to_sequences(test_data)\n",
        "test_data = tf.keras.preprocessing.sequence.pad_sequences(\n",
        "test_data, maxlen=MAX_LEN\n",
        ")\n",
        "test_data = torch.Tensor(test_data)\n",
        "test_data = test_data.to(device, dtype=torch.long)\n",
        "model.to(device)\n",
        "test_pred = model(test_data)\n",
        "test_pred = test_pred.cpu().detach().numpy().tolist()"
      ],
      "execution_count": null,
      "outputs": []
    },
    {
      "cell_type": "code",
      "metadata": {
        "colab": {
          "base_uri": "https://localhost:8080/"
        },
        "id": "AfLqhj12juuf",
        "outputId": "c83a0ff2-9c70-4a56-a63b-9539424f339c"
      },
      "source": [
        "test_df['label'] = test_pred\n",
        "test_df = test_df.replace({\"label\": idx2labels})\n",
        "test_df.to_csv(data_dir + 'predicted_test_set.csv')\n",
        "print(\"Complete!\")"
      ],
      "execution_count": null,
      "outputs": [
        {
          "output_type": "stream",
          "text": [
            "Complete!\n"
          ],
          "name": "stdout"
        }
      ]
    },
    {
      "cell_type": "code",
      "metadata": {
        "id": "6QOvtXRinuJ-"
      },
      "source": [
        ""
      ],
      "execution_count": null,
      "outputs": []
    }
  ]
}